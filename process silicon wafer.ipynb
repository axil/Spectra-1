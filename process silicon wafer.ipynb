{
 "cells": [
  {
   "cell_type": "code",
   "execution_count": null,
   "id": "281ca66f",
   "metadata": {},
   "outputs": [],
   "source": [
    "%bokehlab -v"
   ]
  },
  {
   "cell_type": "code",
   "execution_count": null,
   "id": "db248924",
   "metadata": {},
   "outputs": [],
   "source": [
    "import pandas as pd"
   ]
  },
  {
   "cell_type": "code",
   "execution_count": null,
   "id": "2138847f",
   "metadata": {},
   "outputs": [],
   "source": [
    "ref = pd.read_csv(r\"reference signal.lvm\", \n",
    "                     skiprows=21, decimal=',', sep='\\t', usecols=['X_Value', 'scan'])"
   ]
  },
  {
   "cell_type": "code",
   "execution_count": null,
   "id": "7a605646",
   "metadata": {},
   "outputs": [],
   "source": [
    "sam = pd.read_csv(r\"silicon wafer signal.lvm\", \n",
    "                     skiprows=21, decimal=',', sep='\\t', usecols=['X_Value', 'scan'])"
   ]
  },
  {
   "cell_type": "code",
   "execution_count": null,
   "id": "1c36cf1b",
   "metadata": {},
   "outputs": [],
   "source": [
    "for df in dfs:\n",
    "    plot(df.X_Value, df.scan)"
   ]
  },
  {
   "cell_type": "code",
   "execution_count": null,
   "id": "902c8167",
   "metadata": {},
   "outputs": [],
   "source": [
    "plot([ref.scan, sam.scan])"
   ]
  },
  {
   "cell_type": "code",
   "execution_count": null,
   "id": "688f576b",
   "metadata": {},
   "outputs": [],
   "source": [
    "h_ref = np.fft.fft(ref.scan[:800])"
   ]
  },
  {
   "cell_type": "code",
   "execution_count": null,
   "id": "7c01fd93",
   "metadata": {},
   "outputs": [],
   "source": [
    "h_sam = np.fft.fft(sam.scan[:800])"
   ]
  },
  {
   "cell_type": "code",
   "execution_count": null,
   "id": "ad0c6c4e",
   "metadata": {},
   "outputs": [],
   "source": [
    "len(h_ref)"
   ]
  },
  {
   "cell_type": "code",
   "execution_count": null,
   "id": "634d7dc9",
   "metadata": {},
   "outputs": [],
   "source": [
    "len(h_sam)"
   ]
  },
  {
   "cell_type": "code",
   "execution_count": null,
   "id": "b7e6222a",
   "metadata": {},
   "outputs": [],
   "source": [
    "plot(np.abs(h_ref))\n",
    "plot(np.abs(h_sam))"
   ]
  },
  {
   "cell_type": "code",
   "execution_count": null,
   "id": "b0d55870",
   "metadata": {},
   "outputs": [],
   "source": [
    "plot(np.unwrap(np.angle(h_ref)))\n",
    "plot(np.unwrap(np.angle(h_sam)))"
   ]
  },
  {
   "cell_type": "code",
   "execution_count": null,
   "id": "4999ed65",
   "metadata": {},
   "outputs": [],
   "source": [
    "plot(np.unwrap(np.angle(h)), '.-')"
   ]
  },
  {
   "cell_type": "code",
   "execution_count": null,
   "id": "691466d8",
   "metadata": {},
   "outputs": [],
   "source": [
    "len(y)"
   ]
  },
  {
   "cell_type": "code",
   "execution_count": null,
   "id": "f5d3dbc6",
   "metadata": {},
   "outputs": [],
   "source": [
    "y1 = np.r_[y, [0]*len(y)*3]"
   ]
  },
  {
   "cell_type": "code",
   "execution_count": null,
   "id": "5b1b3aa5",
   "metadata": {},
   "outputs": [],
   "source": [
    "plot([y1, y])"
   ]
  },
  {
   "cell_type": "code",
   "execution_count": null,
   "id": "ceb1cb89",
   "metadata": {},
   "outputs": [],
   "source": [
    "h1 = np.fft.fft(y1)"
   ]
  },
  {
   "cell_type": "code",
   "execution_count": null,
   "id": "77bdd8f1",
   "metadata": {},
   "outputs": [],
   "source": [
    "x = np.linspace(0, 1, len(h))\n",
    "x1 = np.linspace(0, 1, len(h1))"
   ]
  },
  {
   "cell_type": "code",
   "execution_count": null,
   "id": "3586415a",
   "metadata": {},
   "outputs": [],
   "source": [
    "vstack(\n",
    "    Plot(x, np.unwrap(np.angle(h)), '.-', label='y', hline=list(-np.arange(1, 100, 2)*np.pi)),\n",
    "    Plot(x1, np.unwrap(np.angle(h1)), '.-', label='y1'),\n",
    ")"
   ]
  },
  {
   "cell_type": "markdown",
   "id": "14488a8a",
   "metadata": {},
   "source": [
    "## roll"
   ]
  },
  {
   "cell_type": "code",
   "execution_count": null,
   "id": "ea4c61dd",
   "metadata": {},
   "outputs": [],
   "source": [
    "r = ref.scan.values[:800]"
   ]
  },
  {
   "cell_type": "code",
   "execution_count": null,
   "id": "fb39563b",
   "metadata": {},
   "outputs": [],
   "source": [
    "s = sam.scan.values[:800]"
   ]
  },
  {
   "cell_type": "code",
   "execution_count": null,
   "id": "85e4c94e",
   "metadata": {},
   "outputs": [],
   "source": [
    "plot([r, s])"
   ]
  },
  {
   "cell_type": "code",
   "execution_count": null,
   "id": "100c5a7d",
   "metadata": {},
   "outputs": [],
   "source": [
    "import scipy"
   ]
  },
  {
   "cell_type": "markdown",
   "id": "54de1f98",
   "metadata": {},
   "source": [
    "### find delta"
   ]
  },
  {
   "cell_type": "code",
   "execution_count": null,
   "id": "5199e11e",
   "metadata": {},
   "outputs": [],
   "source": [
    "delta = np.unwrap(np.angle(np.fft.fft(np.roll(r, 0)))) - np.unwrap(np.angle(np.fft.fft(np.roll(r, 1))))"
   ]
  },
  {
   "cell_type": "code",
   "execution_count": null,
   "id": "206a3406",
   "metadata": {},
   "outputs": [],
   "source": [
    "delta[-1]/np.pi"
   ]
  },
  {
   "cell_type": "code",
   "execution_count": null,
   "id": "a4093602",
   "metadata": {},
   "outputs": [],
   "source": [
    "np.unwrap(np.angle(np.fft.fft(np.roll(r, 0))))[-1]/(2*np.pi)"
   ]
  },
  {
   "cell_type": "code",
   "execution_count": null,
   "id": "aa08a022",
   "metadata": {},
   "outputs": [],
   "source": [
    "np.unwrap(np.angle(np.fft.fft(np.roll(r, -101))))[-1]/(2*np.pi)"
   ]
  },
  {
   "cell_type": "code",
   "execution_count": null,
   "id": "cc7eee70",
   "metadata": {},
   "outputs": [],
   "source": [
    "np.unwrap(np.angle(np.fft.fft(np.roll(r, -121))))[-1]/(2*np.pi)"
   ]
  },
  {
   "cell_type": "code",
   "execution_count": null,
   "id": "17964544",
   "metadata": {},
   "outputs": [],
   "source": [
    "plot(np.unwrap(np.angle(np.fft.fft(np.roll(r, 0)))), '-', label='0')#, hline=list(np.arange(-51, 30, 2)*np.pi))\n",
    "plot(np.unwrap(np.angle(np.fft.fft(np.roll(r, -127)))), '-', label='+100')#, hline=list(np.arange(-51, 30, 2)*np.pi))\n",
    "#plot(np.unwrap(np.angle(np.fft.fft(np.roll(r, 200)))), '-', label='200')#, hline=list(np.arange(-51, 30, 2)*np.pi))\n",
    "#plot(np.unwrap(np.angle(np.fft.fft(np.roll(r, 210)))), '-', label='210')\n",
    "#plot(np.unwrap(np.angle(np.fft.fft(np.roll(r, 200)))), '-')#, hline=list(np.arange(-51, 30, 2)*np.pi))\n",
    "#plot(np.unwrap(np.angle(np.fft.fft(np.roll(r, 300)))), '-')"
   ]
  },
  {
   "cell_type": "code",
   "execution_count": null,
   "id": "5288ae38",
   "metadata": {},
   "outputs": [],
   "source": [
    "plot(np.unwrap(np.angle(np.fft.fft(np.roll(r, -125)))))\n",
    "plot(np.unwrap(np.angle(np.fft.fft(np.roll(r, -126)))))\n",
    "plot(np.unwrap(np.angle(np.fft.fft(np.roll(r, -125))))+delta)"
   ]
  },
  {
   "cell_type": "code",
   "execution_count": null,
   "id": "7da129ba",
   "metadata": {},
   "outputs": [],
   "source": [
    "plot(np.unwrap(np.angle(np.fft.fft(np.roll(r, -125)))))\n",
    "plot(np.unwrap(np.angle(np.fft.fft(np.roll(r, -127)))))\n",
    "plot(np.unwrap(np.angle(np.fft.fft(np.roll(r, -125))))+2*delta)"
   ]
  },
  {
   "cell_type": "code",
   "execution_count": null,
   "id": "31c47c89",
   "metadata": {},
   "outputs": [],
   "source": [
    "plot(delta)"
   ]
  },
  {
   "cell_type": "code",
   "execution_count": null,
   "id": "3c96cff8",
   "metadata": {
    "scrolled": true
   },
   "outputs": [],
   "source": [
    "plot(np.unwrap(np.angle(np.fft.fft(np.roll(r, -125)))), hline=list(np.arange(-11, 12, 2)*np.pi))"
   ]
  },
  {
   "cell_type": "code",
   "execution_count": null,
   "id": "de7f79df",
   "metadata": {},
   "outputs": [],
   "source": [
    "plot(np.unwrap(np.angle(np.fft.fft(np.roll(s, -285)))), hline=list(np.arange(-11, 12, 2)*np.pi))"
   ]
  },
  {
   "cell_type": "code",
   "execution_count": null,
   "id": "478f3787",
   "metadata": {},
   "outputs": [],
   "source": [
    "285-125"
   ]
  },
  {
   "cell_type": "code",
   "execution_count": null,
   "id": "2ae3b131",
   "metadata": {},
   "outputs": [],
   "source": []
  },
  {
   "cell_type": "code",
   "execution_count": null,
   "id": "8204ad00",
   "metadata": {
    "scrolled": true
   },
   "outputs": [],
   "source": [
    "plot(np.unwrap(np.angle(np.fft.fft(np.roll(r, -125))))+160*delta, hline=list(np.arange(-11, 12, 2)*np.pi))"
   ]
  },
  {
   "cell_type": "code",
   "execution_count": null,
   "id": "b2e5d73c",
   "metadata": {},
   "outputs": [],
   "source": [
    "plot(np.unwrap(np.angle(np.fft.fft(np.roll(r, -285)))))"
   ]
  },
  {
   "cell_type": "code",
   "execution_count": null,
   "id": "05ba7444",
   "metadata": {},
   "outputs": [],
   "source": [
    "plot(np.unwrap(np.angle(np.fft.fft(np.roll(r, -125))))+160*delta-np.unwrap(np.angle(np.fft.fft(np.roll(s, -285)))), hline=list(np.arange(-11, 12, 2)*np.pi))"
   ]
  },
  {
   "cell_type": "code",
   "execution_count": null,
   "id": "5ad78c11",
   "metadata": {},
   "outputs": [],
   "source": []
  },
  {
   "cell_type": "code",
   "execution_count": null,
   "id": "cebe98e5",
   "metadata": {},
   "outputs": [],
   "source": [
    "delta_alpha = np.unwrap(np.angle(np.fft.fft(np.roll(r, -125))))+160*delta-np.unwrap(np.angle(np.fft.fft(np.roll(s, -285))))"
   ]
  },
  {
   "cell_type": "code",
   "execution_count": null,
   "id": "d9bdd1bb",
   "metadata": {},
   "outputs": [],
   "source": [
    "from scipy.constants import c"
   ]
  },
  {
   "cell_type": "code",
   "execution_count": null,
   "id": "212971a0",
   "metadata": {},
   "outputs": [],
   "source": [
    "c"
   ]
  },
  {
   "cell_type": "code",
   "execution_count": null,
   "id": "77017423",
   "metadata": {},
   "outputs": [],
   "source": [
    "freq = np.fft.fftfreq(len(r), ref.iloc[1,0] - ref.iloc[0,0])"
   ]
  },
  {
   "cell_type": "code",
   "execution_count": null,
   "id": "f3785349",
   "metadata": {},
   "outputs": [],
   "source": [
    "n = (1-(c*delta_alpha[1:]/(freq[1:]*2.08/1000*6.28)))"
   ]
  },
  {
   "cell_type": "code",
   "execution_count": null,
   "id": "41e37d6e",
   "metadata": {},
   "outputs": [],
   "source": [
    "plot(n)"
   ]
  },
  {
   "cell_type": "code",
   "execution_count": null,
   "id": "7e0f3aef",
   "metadata": {},
   "outputs": [],
   "source": []
  },
  {
   "cell_type": "code",
   "execution_count": null,
   "id": "f9c53fe2",
   "metadata": {},
   "outputs": [],
   "source": []
  },
  {
   "cell_type": "code",
   "execution_count": null,
   "id": "7e0f4a03",
   "metadata": {},
   "outputs": [],
   "source": []
  },
  {
   "cell_type": "code",
   "execution_count": null,
   "id": "f2f773bd",
   "metadata": {},
   "outputs": [],
   "source": []
  },
  {
   "cell_type": "code",
   "execution_count": null,
   "id": "19ea5b8f",
   "metadata": {},
   "outputs": [],
   "source": []
  },
  {
   "cell_type": "code",
   "execution_count": null,
   "id": "94257d74",
   "metadata": {},
   "outputs": [],
   "source": []
  },
  {
   "cell_type": "code",
   "execution_count": null,
   "id": "54479aad",
   "metadata": {},
   "outputs": [],
   "source": []
  },
  {
   "cell_type": "code",
   "execution_count": null,
   "id": "155116aa",
   "metadata": {},
   "outputs": [],
   "source": []
  },
  {
   "cell_type": "code",
   "execution_count": null,
   "id": "bec0a3e3",
   "metadata": {},
   "outputs": [],
   "source": []
  },
  {
   "cell_type": "code",
   "execution_count": null,
   "id": "71d97d9a",
   "metadata": {},
   "outputs": [],
   "source": []
  },
  {
   "cell_type": "code",
   "execution_count": null,
   "id": "a097d532",
   "metadata": {},
   "outputs": [],
   "source": []
  },
  {
   "cell_type": "code",
   "execution_count": null,
   "id": "fb090c0c",
   "metadata": {},
   "outputs": [],
   "source": []
  },
  {
   "cell_type": "code",
   "execution_count": null,
   "id": "42084c38",
   "metadata": {},
   "outputs": [],
   "source": []
  },
  {
   "cell_type": "code",
   "execution_count": null,
   "id": "ca3fd465",
   "metadata": {},
   "outputs": [],
   "source": []
  },
  {
   "cell_type": "code",
   "execution_count": null,
   "id": "ee9dd925",
   "metadata": {},
   "outputs": [],
   "source": []
  },
  {
   "cell_type": "code",
   "execution_count": null,
   "id": "035a7196",
   "metadata": {},
   "outputs": [],
   "source": []
  },
  {
   "cell_type": "code",
   "execution_count": null,
   "id": "470ee160",
   "metadata": {},
   "outputs": [],
   "source": []
  },
  {
   "cell_type": "code",
   "execution_count": null,
   "id": "2ab0b335",
   "metadata": {},
   "outputs": [],
   "source": []
  },
  {
   "cell_type": "code",
   "execution_count": null,
   "id": "df9728e1",
   "metadata": {},
   "outputs": [],
   "source": []
  },
  {
   "cell_type": "code",
   "execution_count": null,
   "id": "8f63efeb",
   "metadata": {},
   "outputs": [],
   "source": []
  },
  {
   "cell_type": "code",
   "execution_count": null,
   "id": "ee3f66d3",
   "metadata": {},
   "outputs": [],
   "source": []
  },
  {
   "cell_type": "code",
   "execution_count": null,
   "id": "c9b27f22",
   "metadata": {},
   "outputs": [],
   "source": []
  },
  {
   "cell_type": "code",
   "execution_count": null,
   "id": "67df455b",
   "metadata": {},
   "outputs": [],
   "source": []
  },
  {
   "cell_type": "code",
   "execution_count": null,
   "id": "8a08ce74",
   "metadata": {},
   "outputs": [],
   "source": []
  },
  {
   "cell_type": "code",
   "execution_count": null,
   "id": "25f2bf39",
   "metadata": {},
   "outputs": [],
   "source": []
  },
  {
   "cell_type": "code",
   "execution_count": null,
   "id": "58abd139",
   "metadata": {},
   "outputs": [],
   "source": []
  },
  {
   "cell_type": "code",
   "execution_count": null,
   "id": "f8f57445",
   "metadata": {},
   "outputs": [],
   "source": []
  },
  {
   "cell_type": "code",
   "execution_count": null,
   "id": "882a9673",
   "metadata": {},
   "outputs": [],
   "source": []
  },
  {
   "cell_type": "code",
   "execution_count": null,
   "id": "842a4830",
   "metadata": {},
   "outputs": [],
   "source": []
  },
  {
   "cell_type": "code",
   "execution_count": null,
   "id": "855f81e5",
   "metadata": {},
   "outputs": [],
   "source": []
  },
  {
   "cell_type": "code",
   "execution_count": null,
   "id": "af0e6b1f",
   "metadata": {},
   "outputs": [],
   "source": []
  },
  {
   "cell_type": "code",
   "execution_count": null,
   "id": "64e8087f",
   "metadata": {},
   "outputs": [],
   "source": []
  },
  {
   "cell_type": "code",
   "execution_count": null,
   "id": "fa4c9feb",
   "metadata": {},
   "outputs": [],
   "source": [
    "r65 = np.fft.fft(np.roll(r, -65))\n",
    "#h66 = np.fft.fft(np.roll(y, -66))\n",
    "u65 = np.unwrap(np.angle(r65))\n",
    "#u66 = np.unwrap(np.angle(h66))"
   ]
  },
  {
   "cell_type": "code",
   "execution_count": null,
   "id": "fc879aa0",
   "metadata": {},
   "outputs": [],
   "source": [
    "plot(u65)"
   ]
  },
  {
   "cell_type": "code",
   "execution_count": null,
   "id": "23a882a2",
   "metadata": {},
   "outputs": [],
   "source": [
    "h65 = np.fft.fft(np.roll(y, -65))\n",
    "h66 = np.fft.fft(np.roll(y, -66))\n",
    "u65 = np.unwrap(np.angle(h65))\n",
    "u66 = np.unwrap(np.angle(h66))"
   ]
  },
  {
   "cell_type": "code",
   "execution_count": null,
   "id": "c4711eda",
   "metadata": {},
   "outputs": [],
   "source": [
    "plot([u65, u66], hline=-np.arange(-11, 12, 2)*np.pi)"
   ]
  },
  {
   "cell_type": "code",
   "execution_count": null,
   "id": "b239eb69",
   "metadata": {},
   "outputs": [],
   "source": [
    "plot(u65-u66)"
   ]
  },
  {
   "cell_type": "code",
   "execution_count": null,
   "id": "d4fbe6b3",
   "metadata": {},
   "outputs": [],
   "source": [
    "h65 = np.fft.fft(np.roll(y, 0))\n",
    "h66 = np.fft.fft(np.roll(y, 1))\n",
    "u65 = np.unwrap(np.angle(h65))\n",
    "u66 = np.unwrap(np.angle(h66))"
   ]
  },
  {
   "cell_type": "code",
   "execution_count": null,
   "id": "b04204b3",
   "metadata": {},
   "outputs": [],
   "source": [
    "plot([u65, u66], hline=np.arange(-101, 12, 2)*np.pi)"
   ]
  },
  {
   "cell_type": "code",
   "execution_count": null,
   "id": "ec836cdf",
   "metadata": {},
   "outputs": [],
   "source": [
    "plot(u65-u66)"
   ]
  },
  {
   "cell_type": "code",
   "execution_count": null,
   "id": "eec4bf7e",
   "metadata": {},
   "outputs": [],
   "source": []
  },
  {
   "cell_type": "code",
   "execution_count": null,
   "id": "3edd6efe",
   "metadata": {},
   "outputs": [],
   "source": []
  },
  {
   "cell_type": "code",
   "execution_count": null,
   "id": "d332eff7",
   "metadata": {},
   "outputs": [],
   "source": []
  },
  {
   "cell_type": "code",
   "execution_count": null,
   "id": "faf02e6b",
   "metadata": {},
   "outputs": [],
   "source": []
  },
  {
   "cell_type": "code",
   "execution_count": null,
   "id": "710baae2",
   "metadata": {},
   "outputs": [],
   "source": []
  },
  {
   "cell_type": "code",
   "execution_count": null,
   "id": "4f1d0b90",
   "metadata": {},
   "outputs": [],
   "source": [
    "plot(x, np.unwrap(np.angle(h)), '.-', label='y', hline=-np.arange(-10, 100, 2)*np.pi);\n",
    "for i in range(65, 67):\n",
    "    y1 = np.roll(y, -i)\n",
    "    h1 = np.fft.fft(y1)\n",
    "    x = np.linspace(0, 1, len(h))\n",
    "    x1 = np.linspace(0, 1, len(h1))\n",
    "    #vstack(\n",
    "    plot(x1, np.unwrap(np.angle(h1)), '.-', label='y1');\n",
    "    #)"
   ]
  },
  {
   "cell_type": "code",
   "execution_count": null,
   "id": "131fc6da",
   "metadata": {},
   "outputs": [],
   "source": [
    "import numpy as np\n",
    "import matplotlib.pyplot as pl\n",
    "\n",
    "#Consider function f(t)=1/(t^2+1)\n",
    "#We want to compute the Fourier transform g(w)\n",
    "\n",
    "#Discretize time t\n",
    "t0=-100.\n",
    "dt=0.001\n",
    "t=np.arange(t0,-t0,dt)\n",
    "#Define function\n",
    "f=1./(t**2+1.)\n",
    "\n",
    "#Compute Fourier transform by numpy's FFT function\n",
    "g=np.fft.fft(f)\n",
    "#frequency normalization factor is 2*np.pi/dt\n",
    "w = np.fft.fftfreq(f.size)*2*np.pi/dt\n",
    "\n",
    "\n",
    "#In order to get a discretisation of the continuous Fourier transform\n",
    "#we need to multiply g by a phase factor\n",
    "g*=dt*np.exp(-complex(0,1)*w*t0)/(np.sqrt(2*np.pi))\n",
    "\n",
    "#Plot Result\n",
    "plot(w,np.abs(g), '.')\n",
    "#For comparison we plot the analytical solution\n",
    "plot(w,np.exp(-np.abs(w))*np.sqrt(np.pi/2),\"-\")\n",
    "\n",
    "# pl.gca().set_xlim(-10,10)\n",
    "# pl.show()\n",
    "# pl.close()"
   ]
  }
 ],
 "metadata": {
  "kernelspec": {
   "display_name": "Python 3 (ipykernel)",
   "language": "python",
   "name": "python3"
  },
  "language_info": {
   "codemirror_mode": {
    "name": "ipython",
    "version": 3
   },
   "file_extension": ".py",
   "mimetype": "text/x-python",
   "name": "python",
   "nbconvert_exporter": "python",
   "pygments_lexer": "ipython3",
   "version": "3.10.1"
  },
  "toc": {
   "base_numbering": 1,
   "nav_menu": {},
   "number_sections": true,
   "sideBar": true,
   "skip_h1_title": false,
   "title_cell": "Table of Contents",
   "title_sidebar": "Contents",
   "toc_cell": false,
   "toc_position": {},
   "toc_section_display": true,
   "toc_window_display": false
  }
 },
 "nbformat": 4,
 "nbformat_minor": 5
}
